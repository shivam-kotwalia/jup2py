{
 "cells": [
  {
   "cell_type": "code",
   "execution_count": 35,
   "metadata": {},
   "outputs": [],
   "source": [
    "import os\n",
    "import nbconvert\n",
    "%load_ext autoreload\n",
    "%autoreload 2"
   ]
  },
  {
   "cell_type": "code",
   "execution_count": 36,
   "metadata": {},
   "outputs": [],
   "source": [
    "def jup2py(jup_filename, py_filename=None, keep_org=False):\n",
    "    if jup_filename is None or not jup_filename.endswith(\".ipynb\"):\n",
    "        print(\"Please supply jupter filename with .ipynb extension\")\n",
    "    if py_filename is None:\n",
    "        py_org_filename = os.path.splitext(jup_filename)[0] + \"_original.py\"\n",
    "        py_filename = os.path.splitext(jup_filename)[0] + \".py\"\n",
    "\n",
    "    # Converting jupyter to py through nbconvertor\n",
    "    py_code = nbconvert.export(nbconvert.PythonExporter(), jup_filename)\n",
    "    mycode = py_code[0].split(\"\\n\")\n",
    "    clean_code = []\n",
    "    for index, line in enumerate(mycode):\n",
    "        # Removing which are either \"\\n\" or denotes the \"Input\" Tag for jupyter notebook\n",
    "        if line == \"\\n\" or (line.startswith(\"# In[\")) or line is None or line==\"\":\n",
    "            pass\n",
    "        # Commenting the magic functions or the command line\n",
    "        elif \"get_ipython()\" in line:\n",
    "            line = \"#\" + line\n",
    "            clean_code.append(line)\n",
    "        # Remove the jup2py line itself\n",
    "        elif \"jup2py\" in line:\n",
    "            pass\n",
    "        else:\n",
    "            clean_code.append(line)\n",
    "    return clean_code\n",
    "    # Saving back the .py file\n",
    "#     with open(py_filename, \"w\") as myfile:\n",
    "#         myfile.writelines(mycode2)\n",
    "#     print(f\".py file {py_filename} saved!\")\n",
    "#     if keep_org is False:\n",
    "#         os.remove(py_org_filename)\n"
   ]
  },
  {
   "cell_type": "code",
   "execution_count": 29,
   "metadata": {},
   "outputs": [
    {
     "ename": "NameError",
     "evalue": "name 'mycode2' is not defined",
     "output_type": "error",
     "traceback": [
      "\u001b[1;31m---------------------------------------------------------------------------\u001b[0m",
      "\u001b[1;31mNameError\u001b[0m                                 Traceback (most recent call last)",
      "\u001b[1;32m<ipython-input-29-c773de2d4c61>\u001b[0m in \u001b[0;36m<module>\u001b[1;34m\u001b[0m\n\u001b[1;32m----> 1\u001b[1;33m \u001b[0ma\u001b[0m \u001b[1;33m=\u001b[0m \u001b[0mjup2py\u001b[0m\u001b[1;33m(\u001b[0m\u001b[1;34m\"jup2py_sample.ipynb\"\u001b[0m\u001b[1;33m)\u001b[0m\u001b[1;33m[\u001b[0m\u001b[1;36m0\u001b[0m\u001b[1;33m]\u001b[0m\u001b[1;33m\u001b[0m\u001b[1;33m\u001b[0m\u001b[0m\n\u001b[0m",
      "\u001b[1;32m<ipython-input-28-14ec8e3e991e>\u001b[0m in \u001b[0;36mjup2py\u001b[1;34m(jup_filename, py_filename, keep_org)\u001b[0m\n\u001b[0;32m     23\u001b[0m         \u001b[1;32melse\u001b[0m\u001b[1;33m:\u001b[0m\u001b[1;33m\u001b[0m\u001b[1;33m\u001b[0m\u001b[0m\n\u001b[0;32m     24\u001b[0m             \u001b[0mclean_code\u001b[0m\u001b[1;33m.\u001b[0m\u001b[0mappend\u001b[0m\u001b[1;33m(\u001b[0m\u001b[0mline\u001b[0m\u001b[1;33m)\u001b[0m\u001b[1;33m\u001b[0m\u001b[1;33m\u001b[0m\u001b[0m\n\u001b[1;32m---> 25\u001b[1;33m     \u001b[1;32mreturn\u001b[0m \u001b[0mmycode2\u001b[0m\u001b[1;33m\u001b[0m\u001b[1;33m\u001b[0m\u001b[0m\n\u001b[0m\u001b[0;32m     26\u001b[0m     \u001b[1;31m# Saving back the .py file\u001b[0m\u001b[1;33m\u001b[0m\u001b[1;33m\u001b[0m\u001b[1;33m\u001b[0m\u001b[0m\n\u001b[0;32m     27\u001b[0m \u001b[1;31m#     with open(py_filename, \"w\") as myfile:\u001b[0m\u001b[1;33m\u001b[0m\u001b[1;33m\u001b[0m\u001b[1;33m\u001b[0m\u001b[0m\n",
      "\u001b[1;31mNameError\u001b[0m: name 'mycode2' is not defined"
     ]
    }
   ],
   "source": [
    " a = jup2py(\"jup2py_sample.ipynb\")[0]"
   ]
  },
  {
   "cell_type": "code",
   "execution_count": 13,
   "metadata": {},
   "outputs": [
    {
     "data": {
      "text/plain": [
       "'#!/usr/bin/env python\\n# coding: utf-8\\n\\n# ### Sample jup2py notebook file \\n\\n# In[4]:\\n\\n\\nimport pandas as pd\\nimport numpy  as np\\nimport matplotlib.pyplot as plt\\nimport sklearn\\nfrom sklearn.datasets import load_iris\\n\\n\\n# In[1]:\\n\\n\\nprint(\"Sample jup2py notebook file\")\\n\\n\\n# In[6]:\\n\\n\\ndata = load_iris()\\n\\n\\n# In[7]:\\n\\n\\ndata.keys()\\n\\n\\n# In[8]:\\n\\n\\ndf = pd.DataFrame(data[\"data\"], columns=data[\"feature_names\"])\\n\\n\\n# In[10]:\\n\\n\\ndf[\"target_names\"] = data[\"target\"] \\n\\n\\n# In[13]:\\n\\n\\ndf.head()\\n\\n\\n# #### Some Graphs \\n\\n# In[19]:\\n\\n\\ndf.plot(figsize=(15, 8), title=\"Flower attributes\")\\n\\n\\n# In[24]:\\n\\n\\ndf.target_names.astype(\"O\").value_counts().plot.pie()\\n\\n\\n# In[ ]:\\n\\n\\n\\n\\n\\n# In[ ]:\\n\\n\\n\\n\\n'"
      ]
     },
     "execution_count": 13,
     "metadata": {},
     "output_type": "execute_result"
    }
   ],
   "source": [
    "a"
   ]
  },
  {
   "cell_type": "code",
   "execution_count": 15,
   "metadata": {},
   "outputs": [
    {
     "data": {
      "text/plain": [
       "['#!/usr/bin/env python',\n",
       " '# coding: utf-8',\n",
       " '',\n",
       " '# ### Sample jup2py notebook file ',\n",
       " '',\n",
       " '# In[4]:',\n",
       " '',\n",
       " '',\n",
       " 'import pandas as pd',\n",
       " 'import numpy  as np',\n",
       " 'import matplotlib.pyplot as plt',\n",
       " 'import sklearn',\n",
       " 'from sklearn.datasets import load_iris',\n",
       " '',\n",
       " '',\n",
       " '# In[1]:',\n",
       " '',\n",
       " '',\n",
       " 'print(\"Sample jup2py notebook file\")',\n",
       " '',\n",
       " '',\n",
       " '# In[6]:',\n",
       " '',\n",
       " '',\n",
       " 'data = load_iris()',\n",
       " '',\n",
       " '',\n",
       " '# In[7]:',\n",
       " '',\n",
       " '',\n",
       " 'data.keys()',\n",
       " '',\n",
       " '',\n",
       " '# In[8]:',\n",
       " '',\n",
       " '',\n",
       " 'df = pd.DataFrame(data[\"data\"], columns=data[\"feature_names\"])',\n",
       " '',\n",
       " '',\n",
       " '# In[10]:',\n",
       " '',\n",
       " '',\n",
       " 'df[\"target_names\"] = data[\"target\"] ',\n",
       " '',\n",
       " '',\n",
       " '# In[13]:',\n",
       " '',\n",
       " '',\n",
       " 'df.head()',\n",
       " '',\n",
       " '',\n",
       " '# #### Some Graphs ',\n",
       " '',\n",
       " '# In[19]:',\n",
       " '',\n",
       " '',\n",
       " 'df.plot(figsize=(15, 8), title=\"Flower attributes\")',\n",
       " '',\n",
       " '',\n",
       " '# In[24]:',\n",
       " '',\n",
       " '',\n",
       " 'df.target_names.astype(\"O\").value_counts().plot.pie()',\n",
       " '',\n",
       " '',\n",
       " '# In[ ]:',\n",
       " '',\n",
       " '',\n",
       " '',\n",
       " '',\n",
       " '',\n",
       " '# In[ ]:',\n",
       " '',\n",
       " '',\n",
       " '',\n",
       " '',\n",
       " '']"
      ]
     },
     "execution_count": 15,
     "metadata": {},
     "output_type": "execute_result"
    }
   ],
   "source": [
    "a.split(\"\\n\")"
   ]
  },
  {
   "cell_type": "code",
   "execution_count": 31,
   "metadata": {},
   "outputs": [],
   "source": [
    "b = jup2py(\"jup2py_sample.ipynb\")"
   ]
  },
  {
   "cell_type": "code",
   "execution_count": 32,
   "metadata": {},
   "outputs": [
    {
     "data": {
      "text/plain": [
       "['#!/usr/bin/env python',\n",
       " '# coding: utf-8',\n",
       " 'import pandas as pd',\n",
       " 'import numpy  as np',\n",
       " 'import matplotlib.pyplot as plt',\n",
       " 'import sklearn',\n",
       " 'from sklearn.datasets import load_iris',\n",
       " 'data = load_iris()',\n",
       " 'data.keys()',\n",
       " 'df = pd.DataFrame(data[\"data\"], columns=data[\"feature_names\"])',\n",
       " 'df[\"target_names\"] = data[\"target\"] ',\n",
       " 'df.head()',\n",
       " '# #### Some Graphs ',\n",
       " 'df.plot(figsize=(15, 8), title=\"Flower attributes\")',\n",
       " 'df.target_names.astype(\"O\").value_counts().plot.pie()']"
      ]
     },
     "execution_count": 32,
     "metadata": {},
     "output_type": "execute_result"
    }
   ],
   "source": [
    "b"
   ]
  },
  {
   "cell_type": "code",
   "execution_count": 77,
   "metadata": {},
   "outputs": [
    {
     "name": "stdout",
     "output_type": "stream",
     "text": [
      "Jup2Py :- Simple way to convert your Jupyter Notebook to .py\n",
      "Please make sure that you have saved the Notebook before running Jup2Py\n"
     ]
    }
   ],
   "source": [
    "import jup2py"
   ]
  },
  {
   "cell_type": "code",
   "execution_count": 78,
   "metadata": {},
   "outputs": [
    {
     "name": "stdout",
     "output_type": "stream",
     "text": [
      "Please make sure you have saved your jupyter notebook before converting\n"
     ]
    }
   ],
   "source": [
    "c = jup2py.jup2py(\"jup2py_test.ipynb\", save=False)"
   ]
  },
  {
   "cell_type": "code",
   "execution_count": 81,
   "metadata": {},
   "outputs": [
    {
     "name": "stdout",
     "output_type": "stream",
     "text": [
      "#!/usr/bin/env python\n",
      "# coding: utf-8\n",
      "import os\n",
      "import nbconvert\n",
      "#get_ipython().run_line_magic('load_ext', 'autoreload')\n",
      "#get_ipython().run_line_magic('autoreload', '2')\n",
      "    if jup_filename is None or not jup_filename.endswith(\".ipynb\"):\n",
      "        print(\"Please supply jupter filename with .ipynb extension\")\n",
      "    if py_filename is None:\n",
      "        py_org_filename = os.path.splitext(jup_filename)[0] + \"_original.py\"\n",
      "        py_filename = os.path.splitext(jup_filename)[0] + \".py\"\n",
      "    # Converting jupyter to py through nbconvertor\n",
      "    py_code = nbconvert.export(nbconvert.PythonExporter(), jup_filename)\n",
      "    mycode = py_code[0].split(\"\\n\")\n",
      "    clean_code = []\n",
      "    for index, line in enumerate(mycode):\n",
      "        # Removing which are either \"\\n\" or denotes the \"Input\" Tag for jupyter notebook\n",
      "        if line == \"\\n\" or (line.startswith(\"# In[\")) or line is None or line==\"\":\n",
      "            pass\n",
      "        # Commenting the magic functions or the command line\n",
      "        elif \"get_ipython()\" in line:\n",
      "            line = \"#\" + line\n",
      "            clean_code.append(line)\n",
      "            pass\n",
      "        else:\n",
      "            clean_code.append(line)\n",
      "    return clean_code\n",
      "    # Saving back the .py file\n",
      "#     with open(py_filename, \"w\") as myfile:\n",
      "#         myfile.writelines(mycode2)\n",
      "#     print(f\".py file {py_filename} saved!\")\n",
      "#     if keep_org is False:\n",
      "#         os.remove(py_org_filename)\n",
      "a\n",
      "a.split(\"\\n\")\n",
      "b\n",
      "c\n"
     ]
    }
   ],
   "source": [
    "print(c)"
   ]
  },
  {
   "cell_type": "code",
   "execution_count": null,
   "metadata": {},
   "outputs": [],
   "source": []
  },
  {
   "cell_type": "code",
   "execution_count": null,
   "metadata": {},
   "outputs": [],
   "source": []
  }
 ],
 "metadata": {
  "kernelspec": {
   "display_name": "Python 3",
   "language": "python",
   "name": "python3"
  },
  "language_info": {
   "codemirror_mode": {
    "name": "ipython",
    "version": 3
   },
   "file_extension": ".py",
   "mimetype": "text/x-python",
   "name": "python",
   "nbconvert_exporter": "python",
   "pygments_lexer": "ipython3",
   "version": "3.7.3"
  }
 },
 "nbformat": 4,
 "nbformat_minor": 2
}
